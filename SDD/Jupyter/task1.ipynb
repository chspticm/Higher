{
 "cells": [
  {
   "cell_type": "markdown",
   "metadata": {},
   "source": [
    "# Reading from text files\n"
   ]
  },
  {
   "cell_type": "markdown",
   "metadata": {},
   "source": [
    "We can read from a text files multiple ways in Python. However, the SQA want us to open and close the file. So we will focus on this method. "
   ]
  },
  {
   "cell_type": "code",
   "execution_count": 1,
   "metadata": {},
   "outputs": [
    {
     "name": "stdout",
     "output_type": "stream",
     "text": [
      "Hi there\n",
      "How are you\n"
     ]
    }
   ],
   "source": [
    "# Read from text file all file data at once\n",
    "\n",
    "txtFile = open('task1.txt', 'r')\n",
    "print(txtFile.read())\n",
    "txtFile.close()"
   ]
  },
  {
   "cell_type": "markdown",
   "metadata": {},
   "source": [
    "The example above reads the whole file at once. We often want to go through the file one line at a time. \n",
    "We can do this using a FOR...EACH fixed loop."
   ]
  },
  {
   "cell_type": "code",
   "execution_count": 2,
   "metadata": {},
   "outputs": [
    {
     "name": "stdout",
     "output_type": "stream",
     "text": [
      "Hi there\n",
      "\n",
      "How are you\n"
     ]
    }
   ],
   "source": [
    "# Read from text file one line at a time\n",
    "\n",
    "txtFile = open('task1.txt', 'r')\n",
    "for line in txtFile:\n",
    "    print(line)\n",
    "txtFile.close()"
   ]
  },
  {
   "cell_type": "markdown",
   "metadata": {},
   "source": [
    "As you can see this displays the text with an extra line in between. This is because that python reads in the full line including the line break. We can strip this out using the .strip() method. "
   ]
  },
  {
   "cell_type": "code",
   "execution_count": 4,
   "metadata": {},
   "outputs": [
    {
     "name": "stdout",
     "output_type": "stream",
     "text": [
      "Bob\n",
      "Sue\n",
      "Mary\n",
      "Frank\n",
      "John\n",
      "Adam\n",
      "Jen\n",
      "Sunil\n",
      "Penny\n",
      "Kenny\n"
     ]
    }
   ],
   "source": [
    "# Reads each line of text one line at a time\n",
    "# Even if the number of lines is not known\n",
    "\n",
    "txtFile = open('names.txt','r')\n",
    "\n",
    "for line in txtFile:\n",
    "    print(line.strip())\n",
    "\n",
    "txtFile.close()"
   ]
  },
  {
   "cell_type": "markdown",
   "metadata": {},
   "source": [
    "If we wanted to store the data in an Array, then we could use the following program. "
   ]
  },
  {
   "cell_type": "code",
   "execution_count": 6,
   "metadata": {},
   "outputs": [
    {
     "name": "stdout",
     "output_type": "stream",
     "text": [
      "Bob\n",
      "Sue\n",
      "Mary\n",
      "Frank\n",
      "John\n",
      "Adam\n",
      "Jen\n",
      "Sunil\n",
      "Penny\n",
      "Kenny\n"
     ]
    }
   ],
   "source": [
    "# Read the contents of a file into an Array\n",
    "# It is assumed that the file is not longer than 100 lines\n",
    "name = ['' for x in range(100)]\n",
    "txtFile = open('names.txt','r')\n",
    "size = 0\n",
    "\n",
    "for line in txtFile:\n",
    "    name[size] = line.strip()\n",
    "    size += 1\n",
    "\n",
    "for x in range(size):\n",
    "    print(name[x])"
   ]
  },
  {
   "cell_type": "markdown",
   "metadata": {},
   "source": [
    "Notice that the names are at the start of the array, which is still 100 elements in size. The size variable is used to keep track of what is empty and what is not.\n",
    "/nIf we know the number of lines in the text file we can use a more efficient program to read the date into an Array."
   ]
  },
  {
   "cell_type": "code",
   "execution_count": 7,
   "metadata": {},
   "outputs": [
    {
     "name": "stdout",
     "output_type": "stream",
     "text": [
      "['Bob', 'Sue', 'Mary', 'Frank', 'John', 'Adam', 'Jen', 'Sunil', 'Penny', 'Kenny'] 10\n"
     ]
    }
   ],
   "source": [
    "# Read from a file of known size into an array of known size\n",
    "\n",
    "name = ['' for x in range(10)]\n",
    "txtFile = open('names.txt','r')\n",
    "for x in range(10):\n",
    "    name[x] = txtFile.readline().strip()\n",
    "txtFile.close()\n",
    "\n",
    "print(name,len(name))"
   ]
  }
 ],
 "metadata": {
  "kernelspec": {
   "display_name": "Python 3",
   "language": "python",
   "name": "python3"
  },
  "language_info": {
   "codemirror_mode": {
    "name": "ipython",
    "version": 3
   },
   "file_extension": ".py",
   "mimetype": "text/x-python",
   "name": "python",
   "nbconvert_exporter": "python",
   "pygments_lexer": "ipython3",
   "version": "3.12.2"
  }
 },
 "nbformat": 4,
 "nbformat_minor": 2
}
