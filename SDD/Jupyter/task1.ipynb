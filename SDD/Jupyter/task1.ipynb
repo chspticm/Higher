{
 "cells": [
  {
   "cell_type": "markdown",
   "metadata": {},
   "source": [
    "# Reading from text files\n"
   ]
  },
  {
   "cell_type": "markdown",
   "metadata": {},
   "source": [
    "We can read from a text files multiple ways in Python. However, the SQA want us to open and close the file. So we will focus on this method. "
   ]
  },
  {
   "cell_type": "code",
   "execution_count": null,
   "metadata": {},
   "outputs": [
    {
     "ename": "",
     "evalue": "",
     "output_type": "error",
     "traceback": [
      "\u001b[1;31mRunning cells with 'Python 3.11.2' requires the ipykernel package.\n",
      "\u001b[1;31mRun the following command to install 'ipykernel' into the Python environment. \n",
      "\u001b[1;31mCommand: '\"c:/Program Files/Python311/python.exe\" -m pip install ipykernel -U --user --force-reinstall'"
     ]
    }
   ],
   "source": [
    "# Read from text file task1.txt\n",
    "\n",
    "txtFile = open('task1.txt', 'r')    # Open file to read\n",
    "print(txtFile.read())               # display contents of files\n",
    "txtFile.close()                     # Close file"
   ]
  },
  {
   "cell_type": "markdown",
   "metadata": {},
   "source": [
    "If we want to display a line at a time we can use a fixed loop  "
   ]
  },
  {
   "cell_type": "code",
   "execution_count": null,
   "metadata": {},
   "outputs": [
    {
     "ename": "",
     "evalue": "",
     "output_type": "error",
     "traceback": [
      "\u001b[1;31mRunning cells with 'Python 3.11.2' requires the ipykernel package.\n",
      "\u001b[1;31mRun the following command to install 'ipykernel' into the Python environment. \n",
      "\u001b[1;31mCommand: '\"c:/Program Files/Python311/python.exe\" -m pip install ipykernel -U --user --force-reinstall'"
     ]
    }
   ],
   "source": [
    "# Read from multiline text file\n",
    "\n",
    "txtFile = open('task1.txt', 'r')    # Open file to read\n",
    "\n",
    "for line in txtFile:\n",
    "    print(line)                     # display current line\n",
    "\n",
    "txtFile.close()                     # Close file"
   ]
  },
  {
   "cell_type": "markdown",
   "metadata": {},
   "source": [
    "This however adds extra blank lines. This is due to the lines in the text file ending with a line break. \n",
    "We can remove the line break by stripping the the extra characters using the .strip() method. "
   ]
  },
  {
   "cell_type": "code",
   "execution_count": null,
   "metadata": {},
   "outputs": [
    {
     "ename": "",
     "evalue": "",
     "output_type": "error",
     "traceback": [
      "\u001b[1;31mRunning cells with 'Python 3.11.2' requires the ipykernel package.\n",
      "\u001b[1;31mRun the following command to install 'ipykernel' into the Python environment. \n",
      "\u001b[1;31mCommand: '\"c:/Program Files/Python311/python.exe\" -m pip install ipykernel -U --user --force-reinstall'"
     ]
    }
   ],
   "source": [
    "# Read from multiline text file\n",
    "\n",
    "txtFile = open('task1.txt', 'r')    # Open file to read\n",
    "\n",
    "for line in txtFile:\n",
    "    print(line.strip())             # display current line without the extra line break\n",
    "\n",
    "txtFile.close()                     # Close file"
   ]
  }
 ],
 "metadata": {
  "kernelspec": {
   "display_name": "Python 3",
   "language": "python",
   "name": "python3"
  },
  "language_info": {
   "name": "python",
   "version": "3.11.2"
  }
 },
 "nbformat": 4,
 "nbformat_minor": 2
}
